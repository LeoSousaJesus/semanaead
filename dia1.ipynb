{
 "cells": [
  {
   "cell_type": "markdown",
   "metadata": {},
   "source": [
    "# Semana Exploratory Data Analysis (EDA)"
   ]
  },
  {
   "cell_type": "markdown",
   "metadata": {},
   "source": [
    "## Problema"
   ]
  },
  {
   "cell_type": "markdown",
   "metadata": {},
   "source": [
    "- Uma escola necessita trabalhar com filmes em seu planejamento pedagógico.\n",
    "- Ela necessita de visualizar as notas de diversos filmes em suas diversas categorias.\n",
    "- Os filmes devem atravessar gerações."
   ]
  },
  {
   "cell_type": "markdown",
   "metadata": {},
   "source": [
    "# Ambientação Python"
   ]
  },
  {
   "cell_type": "code",
   "execution_count": 4,
   "metadata": {},
   "outputs": [
    {
     "name": "stdout",
     "output_type": "stream",
     "text": [
      "Hello EDA\n",
      "será: Top\n"
     ]
    }
   ],
   "source": [
    "# comentário de uma linha\n",
    "\n",
    "\"\"\"comentário de múltiplas linhas\n",
    "\"\"\"\n",
    "print(\"Hello EDA\")\n",
    "msg = input(\"Como será essa semana EDA?\")\n",
    "print(f\"será: {msg}\")"
   ]
  },
  {
   "cell_type": "markdown",
   "metadata": {},
   "source": [
    "# Características Python"
   ]
  },
  {
   "cell_type": "markdown",
   "metadata": {},
   "source": [
    "- Multiplataforma\n",
    "- DC e IA\n",
    "- Identação\n",
    "- Tipagem Dinâmica\n",
    "- Bibliotecas\n",
    "- Paradigma Funcional (lambda)\n",
    "- Paradigma Orientação a Objetos\n",
    "- Paradigma Estruturado\n",
    "- Microserviços"
   ]
  },
  {
   "cell_type": "code",
   "execution_count": 5,
   "metadata": {},
   "outputs": [],
   "source": [
    "class Pessoa():\n",
    "    def __init__(self,nome,idade):\n",
    "        self.nome = nome\n",
    "        self.idade = idade\n",
    "    def pega_nome(self):\n",
    "        return self.nome\n",
    "    def dobro_idade(self):\n",
    "        return self.idade * 2\n",
    "    \n"
   ]
  },
  {
   "cell_type": "code",
   "execution_count": 6,
   "metadata": {},
   "outputs": [
    {
     "data": {
      "text/plain": [
       "'João'"
      ]
     },
     "execution_count": 6,
     "metadata": {},
     "output_type": "execute_result"
    }
   ],
   "source": [
    "pessoa = Pessoa(\"João\", 35)\n",
    "pessoa.pega_nome()"
   ]
  },
  {
   "cell_type": "code",
   "execution_count": 7,
   "metadata": {},
   "outputs": [
    {
     "name": "stdout",
     "output_type": "stream",
     "text": [
      "Requirement already satisfied: numpy in c:\\users\\ead\\desktop\\aulas python leandro\\semanaedatarde\\.venv\\lib\\site-packages (2.1.0)\n"
     ]
    }
   ],
   "source": [
    "# instalar o numpy\n",
    "! pip install numpy"
   ]
  },
  {
   "cell_type": "code",
   "execution_count": 8,
   "metadata": {},
   "outputs": [
    {
     "name": "stdout",
     "output_type": "stream",
     "text": [
      "Requirement already satisfied: pandas in c:\\users\\ead\\desktop\\aulas python leandro\\semanaedatarde\\.venv\\lib\\site-packages (2.2.2)\n",
      "Requirement already satisfied: numpy>=1.26.0 in c:\\users\\ead\\desktop\\aulas python leandro\\semanaedatarde\\.venv\\lib\\site-packages (from pandas) (2.1.0)\n",
      "Requirement already satisfied: python-dateutil>=2.8.2 in c:\\users\\ead\\desktop\\aulas python leandro\\semanaedatarde\\.venv\\lib\\site-packages (from pandas) (2.9.0.post0)\n",
      "Requirement already satisfied: pytz>=2020.1 in c:\\users\\ead\\desktop\\aulas python leandro\\semanaedatarde\\.venv\\lib\\site-packages (from pandas) (2024.1)\n",
      "Requirement already satisfied: tzdata>=2022.7 in c:\\users\\ead\\desktop\\aulas python leandro\\semanaedatarde\\.venv\\lib\\site-packages (from pandas) (2024.1)\n",
      "Requirement already satisfied: six>=1.5 in c:\\users\\ead\\desktop\\aulas python leandro\\semanaedatarde\\.venv\\lib\\site-packages (from python-dateutil>=2.8.2->pandas) (1.16.0)\n"
     ]
    }
   ],
   "source": [
    "# instalar o pandas\n",
    "! pip install pandas"
   ]
  },
  {
   "cell_type": "markdown",
   "metadata": {},
   "source": [
    "### Pra entender melhor!\n",
    "- Sem lambda como seria?\n",
    "\n",
    "def dobro(self,x): <br>\n",
    "  <p> return x * 2`<p>"
   ]
  },
  {
   "cell_type": "code",
   "execution_count": 9,
   "metadata": {},
   "outputs": [],
   "source": [
    "# defininindo um lambda\n",
    "dobro = lambda x:x*2"
   ]
  },
  {
   "cell_type": "code",
   "execution_count": 42,
   "metadata": {},
   "outputs": [],
   "source": [
    "import numpy as np\n",
    "matriz_4x4 = np.array([[1, 2, 3, 4],\n",
    "                       [2, 4, 6, 8],\n",
    "                       [3, 8, 12, 16],\n",
    "                       [4, 16, 24, 32]])\n"
   ]
  },
  {
   "cell_type": "code",
   "execution_count": 43,
   "metadata": {},
   "outputs": [],
   "source": [
    "import pandas as pd\n",
    "\n",
    "df = pd.DataFrame(matriz_4x4)"
   ]
  },
  {
   "cell_type": "code",
   "execution_count": 44,
   "metadata": {},
   "outputs": [
    {
     "data": {
      "text/html": [
       "<div>\n",
       "<style scoped>\n",
       "    .dataframe tbody tr th:only-of-type {\n",
       "        vertical-align: middle;\n",
       "    }\n",
       "\n",
       "    .dataframe tbody tr th {\n",
       "        vertical-align: top;\n",
       "    }\n",
       "\n",
       "    .dataframe thead th {\n",
       "        text-align: right;\n",
       "    }\n",
       "</style>\n",
       "<table border=\"1\" class=\"dataframe\">\n",
       "  <thead>\n",
       "    <tr style=\"text-align: right;\">\n",
       "      <th></th>\n",
       "      <th>0</th>\n",
       "      <th>1</th>\n",
       "      <th>2</th>\n",
       "      <th>3</th>\n",
       "    </tr>\n",
       "  </thead>\n",
       "  <tbody>\n",
       "    <tr>\n",
       "      <th>0</th>\n",
       "      <td>1</td>\n",
       "      <td>2</td>\n",
       "      <td>3</td>\n",
       "      <td>4</td>\n",
       "    </tr>\n",
       "    <tr>\n",
       "      <th>1</th>\n",
       "      <td>2</td>\n",
       "      <td>4</td>\n",
       "      <td>6</td>\n",
       "      <td>8</td>\n",
       "    </tr>\n",
       "    <tr>\n",
       "      <th>2</th>\n",
       "      <td>3</td>\n",
       "      <td>8</td>\n",
       "      <td>12</td>\n",
       "      <td>16</td>\n",
       "    </tr>\n",
       "    <tr>\n",
       "      <th>3</th>\n",
       "      <td>4</td>\n",
       "      <td>16</td>\n",
       "      <td>24</td>\n",
       "      <td>32</td>\n",
       "    </tr>\n",
       "  </tbody>\n",
       "</table>\n",
       "</div>"
      ],
      "text/plain": [
       "   0   1   2   3\n",
       "0  1   2   3   4\n",
       "1  2   4   6   8\n",
       "2  3   8  12  16\n",
       "3  4  16  24  32"
      ]
     },
     "execution_count": 44,
     "metadata": {},
     "output_type": "execute_result"
    }
   ],
   "source": [
    "df.head()"
   ]
  },
  {
   "cell_type": "code",
   "execution_count": 45,
   "metadata": {},
   "outputs": [],
   "source": [
    "df_dobrado = df.apply(dobro)\n"
   ]
  },
  {
   "cell_type": "code",
   "execution_count": 46,
   "metadata": {},
   "outputs": [
    {
     "data": {
      "text/html": [
       "<div>\n",
       "<style scoped>\n",
       "    .dataframe tbody tr th:only-of-type {\n",
       "        vertical-align: middle;\n",
       "    }\n",
       "\n",
       "    .dataframe tbody tr th {\n",
       "        vertical-align: top;\n",
       "    }\n",
       "\n",
       "    .dataframe thead th {\n",
       "        text-align: right;\n",
       "    }\n",
       "</style>\n",
       "<table border=\"1\" class=\"dataframe\">\n",
       "  <thead>\n",
       "    <tr style=\"text-align: right;\">\n",
       "      <th></th>\n",
       "      <th>0</th>\n",
       "      <th>1</th>\n",
       "      <th>2</th>\n",
       "      <th>3</th>\n",
       "    </tr>\n",
       "  </thead>\n",
       "  <tbody>\n",
       "    <tr>\n",
       "      <th>0</th>\n",
       "      <td>2</td>\n",
       "      <td>4</td>\n",
       "      <td>6</td>\n",
       "      <td>8</td>\n",
       "    </tr>\n",
       "    <tr>\n",
       "      <th>1</th>\n",
       "      <td>4</td>\n",
       "      <td>8</td>\n",
       "      <td>12</td>\n",
       "      <td>16</td>\n",
       "    </tr>\n",
       "    <tr>\n",
       "      <th>2</th>\n",
       "      <td>6</td>\n",
       "      <td>16</td>\n",
       "      <td>24</td>\n",
       "      <td>32</td>\n",
       "    </tr>\n",
       "    <tr>\n",
       "      <th>3</th>\n",
       "      <td>8</td>\n",
       "      <td>32</td>\n",
       "      <td>48</td>\n",
       "      <td>64</td>\n",
       "    </tr>\n",
       "  </tbody>\n",
       "</table>\n",
       "</div>"
      ],
      "text/plain": [
       "   0   1   2   3\n",
       "0  2   4   6   8\n",
       "1  4   8  12  16\n",
       "2  6  16  24  32\n",
       "3  8  32  48  64"
      ]
     },
     "execution_count": 46,
     "metadata": {},
     "output_type": "execute_result"
    }
   ],
   "source": [
    "df_dobrado.head()"
   ]
  },
  {
   "cell_type": "markdown",
   "metadata": {},
   "source": [
    "# Iniciando nosso primeiro EDA"
   ]
  },
  {
   "cell_type": "markdown",
   "metadata": {},
   "source": [
    "## Solução - Melhores Filmes para a Escola\n",
    "\n",
    "### Importando o DataSet"
   ]
  },
  {
   "cell_type": "code",
   "execution_count": 15,
   "metadata": {},
   "outputs": [],
   "source": [
    "df_filmes = pd.read_csv('datasets/ratings.csv')"
   ]
  },
  {
   "cell_type": "code",
   "execution_count": 16,
   "metadata": {},
   "outputs": [
    {
     "data": {
      "text/html": [
       "<div>\n",
       "<style scoped>\n",
       "    .dataframe tbody tr th:only-of-type {\n",
       "        vertical-align: middle;\n",
       "    }\n",
       "\n",
       "    .dataframe tbody tr th {\n",
       "        vertical-align: top;\n",
       "    }\n",
       "\n",
       "    .dataframe thead th {\n",
       "        text-align: right;\n",
       "    }\n",
       "</style>\n",
       "<table border=\"1\" class=\"dataframe\">\n",
       "  <thead>\n",
       "    <tr style=\"text-align: right;\">\n",
       "      <th></th>\n",
       "      <th>userId</th>\n",
       "      <th>movieId</th>\n",
       "      <th>rating</th>\n",
       "      <th>timestamp</th>\n",
       "    </tr>\n",
       "  </thead>\n",
       "  <tbody>\n",
       "    <tr>\n",
       "      <th>0</th>\n",
       "      <td>1</td>\n",
       "      <td>1</td>\n",
       "      <td>4.0</td>\n",
       "      <td>964982703</td>\n",
       "    </tr>\n",
       "    <tr>\n",
       "      <th>1</th>\n",
       "      <td>1</td>\n",
       "      <td>3</td>\n",
       "      <td>4.0</td>\n",
       "      <td>964981247</td>\n",
       "    </tr>\n",
       "    <tr>\n",
       "      <th>2</th>\n",
       "      <td>1</td>\n",
       "      <td>6</td>\n",
       "      <td>4.0</td>\n",
       "      <td>964982224</td>\n",
       "    </tr>\n",
       "    <tr>\n",
       "      <th>3</th>\n",
       "      <td>1</td>\n",
       "      <td>47</td>\n",
       "      <td>5.0</td>\n",
       "      <td>964983815</td>\n",
       "    </tr>\n",
       "    <tr>\n",
       "      <th>4</th>\n",
       "      <td>1</td>\n",
       "      <td>50</td>\n",
       "      <td>5.0</td>\n",
       "      <td>964982931</td>\n",
       "    </tr>\n",
       "  </tbody>\n",
       "</table>\n",
       "</div>"
      ],
      "text/plain": [
       "   userId  movieId  rating  timestamp\n",
       "0       1        1     4.0  964982703\n",
       "1       1        3     4.0  964981247\n",
       "2       1        6     4.0  964982224\n",
       "3       1       47     5.0  964983815\n",
       "4       1       50     5.0  964982931"
      ]
     },
     "execution_count": 16,
     "metadata": {},
     "output_type": "execute_result"
    }
   ],
   "source": [
    "df_filmes.head()"
   ]
  },
  {
   "cell_type": "markdown",
   "metadata": {},
   "source": [
    "### Mostrando todas as colunas"
   ]
  },
  {
   "cell_type": "code",
   "execution_count": 17,
   "metadata": {},
   "outputs": [
    {
     "data": {
      "text/plain": [
       "Index(['userId', 'movieId', 'rating', 'timestamp'], dtype='object')"
      ]
     },
     "execution_count": 17,
     "metadata": {},
     "output_type": "execute_result"
    }
   ],
   "source": [
    "df_filmes.columns"
   ]
  },
  {
   "cell_type": "markdown",
   "metadata": {},
   "source": [
    "### Renomear as colunas"
   ]
  },
  {
   "cell_type": "code",
   "execution_count": 18,
   "metadata": {},
   "outputs": [],
   "source": [
    "df_filmes.columns = ['usuario_id','filmes_id','avaliacao','quando']"
   ]
  },
  {
   "cell_type": "markdown",
   "metadata": {},
   "source": [
    "### Mostrar os cinco primeiros"
   ]
  },
  {
   "cell_type": "code",
   "execution_count": 19,
   "metadata": {},
   "outputs": [
    {
     "data": {
      "text/html": [
       "<div>\n",
       "<style scoped>\n",
       "    .dataframe tbody tr th:only-of-type {\n",
       "        vertical-align: middle;\n",
       "    }\n",
       "\n",
       "    .dataframe tbody tr th {\n",
       "        vertical-align: top;\n",
       "    }\n",
       "\n",
       "    .dataframe thead th {\n",
       "        text-align: right;\n",
       "    }\n",
       "</style>\n",
       "<table border=\"1\" class=\"dataframe\">\n",
       "  <thead>\n",
       "    <tr style=\"text-align: right;\">\n",
       "      <th></th>\n",
       "      <th>usuario_id</th>\n",
       "      <th>filmes_id</th>\n",
       "      <th>avaliacao</th>\n",
       "      <th>quando</th>\n",
       "    </tr>\n",
       "  </thead>\n",
       "  <tbody>\n",
       "    <tr>\n",
       "      <th>0</th>\n",
       "      <td>1</td>\n",
       "      <td>1</td>\n",
       "      <td>4.0</td>\n",
       "      <td>964982703</td>\n",
       "    </tr>\n",
       "    <tr>\n",
       "      <th>1</th>\n",
       "      <td>1</td>\n",
       "      <td>3</td>\n",
       "      <td>4.0</td>\n",
       "      <td>964981247</td>\n",
       "    </tr>\n",
       "    <tr>\n",
       "      <th>2</th>\n",
       "      <td>1</td>\n",
       "      <td>6</td>\n",
       "      <td>4.0</td>\n",
       "      <td>964982224</td>\n",
       "    </tr>\n",
       "    <tr>\n",
       "      <th>3</th>\n",
       "      <td>1</td>\n",
       "      <td>47</td>\n",
       "      <td>5.0</td>\n",
       "      <td>964983815</td>\n",
       "    </tr>\n",
       "    <tr>\n",
       "      <th>4</th>\n",
       "      <td>1</td>\n",
       "      <td>50</td>\n",
       "      <td>5.0</td>\n",
       "      <td>964982931</td>\n",
       "    </tr>\n",
       "  </tbody>\n",
       "</table>\n",
       "</div>"
      ],
      "text/plain": [
       "   usuario_id  filmes_id  avaliacao     quando\n",
       "0           1          1        4.0  964982703\n",
       "1           1          3        4.0  964981247\n",
       "2           1          6        4.0  964982224\n",
       "3           1         47        5.0  964983815\n",
       "4           1         50        5.0  964982931"
      ]
     },
     "execution_count": 19,
     "metadata": {},
     "output_type": "execute_result"
    }
   ],
   "source": [
    "df_filmes.head()"
   ]
  },
  {
   "cell_type": "markdown",
   "metadata": {},
   "source": [
    "### Mostrar uma SERIES"
   ]
  },
  {
   "cell_type": "code",
   "execution_count": 20,
   "metadata": {},
   "outputs": [
    {
     "data": {
      "text/plain": [
       "0         4.0\n",
       "1         4.0\n",
       "2         4.0\n",
       "3         5.0\n",
       "4         5.0\n",
       "         ... \n",
       "100831    4.0\n",
       "100832    5.0\n",
       "100833    5.0\n",
       "100834    5.0\n",
       "100835    3.0\n",
       "Name: avaliacao, Length: 100836, dtype: float64"
      ]
     },
     "execution_count": 20,
     "metadata": {},
     "output_type": "execute_result"
    }
   ],
   "source": [
    "df_filmes['avaliacao']"
   ]
  },
  {
   "cell_type": "markdown",
   "metadata": {},
   "source": [
    "### de uma forma mais sintática"
   ]
  },
  {
   "cell_type": "code",
   "execution_count": 21,
   "metadata": {},
   "outputs": [
    {
     "data": {
      "text/plain": [
       "0         4.0\n",
       "1         4.0\n",
       "2         4.0\n",
       "3         5.0\n",
       "4         5.0\n",
       "         ... \n",
       "100831    4.0\n",
       "100832    5.0\n",
       "100833    5.0\n",
       "100834    5.0\n",
       "100835    3.0\n",
       "Name: avaliacao, Length: 100836, dtype: float64"
      ]
     },
     "execution_count": 21,
     "metadata": {},
     "output_type": "execute_result"
    }
   ],
   "source": [
    "df_filmes.avaliacao"
   ]
  },
  {
   "cell_type": "markdown",
   "metadata": {},
   "source": [
    "### Dúvida, mas o que realmente é uma SERIES?\n",
    "\n",
    "https://dataat.github.io/introducao-analise-de-dados-espaciais/python.html"
   ]
  },
  {
   "cell_type": "markdown",
   "metadata": {},
   "source": [
    "### Nossa primeira EDA (analisar a quantidade de filmes por avaliações)"
   ]
  },
  {
   "cell_type": "code",
   "execution_count": 22,
   "metadata": {},
   "outputs": [
    {
     "data": {
      "text/plain": [
       "usuario_id  filmes_id  avaliacao  quando    \n",
       "610         170875     3.0        1493846415    1\n",
       "1           1          4.0        964982703     1\n",
       "            3          4.0        964981247     1\n",
       "            6          4.0        964982224     1\n",
       "610         160080     3.0        1493848031    1\n",
       "                                               ..\n",
       "1           151        5.0        964984041     1\n",
       "            110        4.0        964982176     1\n",
       "            101        5.0        964980868     1\n",
       "            70         3.0        964982400     1\n",
       "            50         5.0        964982931     1\n",
       "Name: count, Length: 100836, dtype: int64"
      ]
     },
     "execution_count": 22,
     "metadata": {},
     "output_type": "execute_result"
    }
   ],
   "source": [
    "df_filmes.value_counts()"
   ]
  },
  {
   "cell_type": "code",
   "execution_count": 23,
   "metadata": {},
   "outputs": [
    {
     "data": {
      "text/plain": [
       "avaliacao\n",
       "4.0    26818\n",
       "3.0    20047\n",
       "5.0    13211\n",
       "3.5    13136\n",
       "4.5     8551\n",
       "2.0     7551\n",
       "2.5     5550\n",
       "1.0     2811\n",
       "1.5     1791\n",
       "0.5     1370\n",
       "Name: count, dtype: int64"
      ]
     },
     "execution_count": 23,
     "metadata": {},
     "output_type": "execute_result"
    }
   ],
   "source": [
    "df_filmes.avaliacao.value_counts()"
   ]
  },
  {
   "cell_type": "markdown",
   "metadata": {},
   "source": [
    "### A média de todas as notas"
   ]
  },
  {
   "cell_type": "code",
   "execution_count": 24,
   "metadata": {},
   "outputs": [
    {
     "data": {
      "text/plain": [
       "np.float64(3.501556983616962)"
      ]
     },
     "execution_count": 24,
     "metadata": {},
     "output_type": "execute_result"
    }
   ],
   "source": [
    "df_filmes.avaliacao.mean()"
   ]
  },
  {
   "cell_type": "markdown",
   "metadata": {},
   "source": [
    "### Mostrar valores únicos?"
   ]
  },
  {
   "cell_type": "code",
   "execution_count": 25,
   "metadata": {},
   "outputs": [
    {
     "data": {
      "text/plain": [
       "array([4. , 5. , 3. , 2. , 1. , 4.5, 3.5, 2.5, 0.5, 1.5])"
      ]
     },
     "execution_count": 25,
     "metadata": {},
     "output_type": "execute_result"
    }
   ],
   "source": [
    "df_filmes.avaliacao.unique()"
   ]
  },
  {
   "cell_type": "markdown",
   "metadata": {},
   "source": [
    "### Contando histórias com Histogramas"
   ]
  },
  {
   "cell_type": "code",
   "execution_count": 26,
   "metadata": {},
   "outputs": [
    {
     "name": "stdout",
     "output_type": "stream",
     "text": [
      "Requirement already satisfied: matplotlib in c:\\users\\ead\\desktop\\aulas python leandro\\semanaedatarde\\.venv\\lib\\site-packages (3.9.2)\n",
      "Requirement already satisfied: contourpy>=1.0.1 in c:\\users\\ead\\desktop\\aulas python leandro\\semanaedatarde\\.venv\\lib\\site-packages (from matplotlib) (1.2.1)\n",
      "Requirement already satisfied: cycler>=0.10 in c:\\users\\ead\\desktop\\aulas python leandro\\semanaedatarde\\.venv\\lib\\site-packages (from matplotlib) (0.12.1)\n",
      "Requirement already satisfied: fonttools>=4.22.0 in c:\\users\\ead\\desktop\\aulas python leandro\\semanaedatarde\\.venv\\lib\\site-packages (from matplotlib) (4.53.1)\n",
      "Requirement already satisfied: kiwisolver>=1.3.1 in c:\\users\\ead\\desktop\\aulas python leandro\\semanaedatarde\\.venv\\lib\\site-packages (from matplotlib) (1.4.5)\n",
      "Requirement already satisfied: numpy>=1.23 in c:\\users\\ead\\desktop\\aulas python leandro\\semanaedatarde\\.venv\\lib\\site-packages (from matplotlib) (2.1.0)\n",
      "Requirement already satisfied: packaging>=20.0 in c:\\users\\ead\\desktop\\aulas python leandro\\semanaedatarde\\.venv\\lib\\site-packages (from matplotlib) (24.1)\n",
      "Requirement already satisfied: pillow>=8 in c:\\users\\ead\\desktop\\aulas python leandro\\semanaedatarde\\.venv\\lib\\site-packages (from matplotlib) (10.4.0)\n",
      "Requirement already satisfied: pyparsing>=2.3.1 in c:\\users\\ead\\desktop\\aulas python leandro\\semanaedatarde\\.venv\\lib\\site-packages (from matplotlib) (3.1.2)\n",
      "Requirement already satisfied: python-dateutil>=2.7 in c:\\users\\ead\\desktop\\aulas python leandro\\semanaedatarde\\.venv\\lib\\site-packages (from matplotlib) (2.9.0.post0)\n",
      "Requirement already satisfied: six>=1.5 in c:\\users\\ead\\desktop\\aulas python leandro\\semanaedatarde\\.venv\\lib\\site-packages (from python-dateutil>=2.7->matplotlib) (1.16.0)\n"
     ]
    }
   ],
   "source": [
    "! pip install matplotlib"
   ]
  },
  {
   "cell_type": "code",
   "execution_count": 27,
   "metadata": {},
   "outputs": [
    {
     "name": "stdout",
     "output_type": "stream",
     "text": [
      "Requirement already satisfied: seaborn in c:\\users\\ead\\desktop\\aulas python leandro\\semanaedatarde\\.venv\\lib\\site-packages (0.13.2)\n",
      "Requirement already satisfied: numpy!=1.24.0,>=1.20 in c:\\users\\ead\\desktop\\aulas python leandro\\semanaedatarde\\.venv\\lib\\site-packages (from seaborn) (2.1.0)\n",
      "Requirement already satisfied: pandas>=1.2 in c:\\users\\ead\\desktop\\aulas python leandro\\semanaedatarde\\.venv\\lib\\site-packages (from seaborn) (2.2.2)\n",
      "Requirement already satisfied: matplotlib!=3.6.1,>=3.4 in c:\\users\\ead\\desktop\\aulas python leandro\\semanaedatarde\\.venv\\lib\\site-packages (from seaborn) (3.9.2)\n",
      "Requirement already satisfied: contourpy>=1.0.1 in c:\\users\\ead\\desktop\\aulas python leandro\\semanaedatarde\\.venv\\lib\\site-packages (from matplotlib!=3.6.1,>=3.4->seaborn) (1.2.1)\n",
      "Requirement already satisfied: cycler>=0.10 in c:\\users\\ead\\desktop\\aulas python leandro\\semanaedatarde\\.venv\\lib\\site-packages (from matplotlib!=3.6.1,>=3.4->seaborn) (0.12.1)\n",
      "Requirement already satisfied: fonttools>=4.22.0 in c:\\users\\ead\\desktop\\aulas python leandro\\semanaedatarde\\.venv\\lib\\site-packages (from matplotlib!=3.6.1,>=3.4->seaborn) (4.53.1)\n",
      "Requirement already satisfied: kiwisolver>=1.3.1 in c:\\users\\ead\\desktop\\aulas python leandro\\semanaedatarde\\.venv\\lib\\site-packages (from matplotlib!=3.6.1,>=3.4->seaborn) (1.4.5)\n",
      "Requirement already satisfied: packaging>=20.0 in c:\\users\\ead\\desktop\\aulas python leandro\\semanaedatarde\\.venv\\lib\\site-packages (from matplotlib!=3.6.1,>=3.4->seaborn) (24.1)\n",
      "Requirement already satisfied: pillow>=8 in c:\\users\\ead\\desktop\\aulas python leandro\\semanaedatarde\\.venv\\lib\\site-packages (from matplotlib!=3.6.1,>=3.4->seaborn) (10.4.0)\n",
      "Requirement already satisfied: pyparsing>=2.3.1 in c:\\users\\ead\\desktop\\aulas python leandro\\semanaedatarde\\.venv\\lib\\site-packages (from matplotlib!=3.6.1,>=3.4->seaborn) (3.1.2)\n",
      "Requirement already satisfied: python-dateutil>=2.7 in c:\\users\\ead\\desktop\\aulas python leandro\\semanaedatarde\\.venv\\lib\\site-packages (from matplotlib!=3.6.1,>=3.4->seaborn) (2.9.0.post0)\n",
      "Requirement already satisfied: pytz>=2020.1 in c:\\users\\ead\\desktop\\aulas python leandro\\semanaedatarde\\.venv\\lib\\site-packages (from pandas>=1.2->seaborn) (2024.1)\n",
      "Requirement already satisfied: tzdata>=2022.7 in c:\\users\\ead\\desktop\\aulas python leandro\\semanaedatarde\\.venv\\lib\\site-packages (from pandas>=1.2->seaborn) (2024.1)\n",
      "Requirement already satisfied: six>=1.5 in c:\\users\\ead\\desktop\\aulas python leandro\\semanaedatarde\\.venv\\lib\\site-packages (from python-dateutil>=2.7->matplotlib!=3.6.1,>=3.4->seaborn) (1.16.0)\n"
     ]
    }
   ],
   "source": [
    "! pip install seaborn"
   ]
  },
  {
   "cell_type": "markdown",
   "metadata": {},
   "source": [
    "### Contar a história da quantidade de filmes por avaliações"
   ]
  },
  {
   "cell_type": "code",
   "execution_count": 28,
   "metadata": {},
   "outputs": [
    {
     "data": {
      "text/plain": [
       "<Axes: ylabel='Frequency'>"
      ]
     },
     "execution_count": 28,
     "metadata": {},
     "output_type": "execute_result"
    },
    {
     "data": {
      "image/png": "[encoded data removed]",
      "text/plain": [
       "<Figure size 640x480 with 1 Axes>"
      ]
     },
     "metadata": {},
     "output_type": "display_data"
    }
   ],
   "source": [
    "df_filmes.avaliacao.plot(kind='hist', color='gray')"
   ]
  },
  {
   "cell_type": "code",
   "execution_count": 29,
   "metadata": {},
   "outputs": [
    {
     "data": {
      "text/plain": [
       "<Axes: ylabel='Frequency'>"
      ]
     },
     "execution_count": 29,
     "metadata": {},
     "output_type": "execute_result"
    },
    {
     "data": {
      "image/png": "[encoded data removed]",
      "text/plain": [
       "<Figure size 640x480 with 1 Axes>"
      ]
     },
     "metadata": {},
     "output_type": "display_data"
    }
   ],
   "source": [
    "df_filmes.avaliacao.plot(kind='hist', color='brown')"
   ]
  },
  {
   "cell_type": "markdown",
   "metadata": {},
   "source": [
    "# Estatística Descritiva"
   ]
  },
  {
   "cell_type": "code",
   "execution_count": 41,
   "metadata": {},
   "outputs": [
    {
     "data": {
      "text/html": [
       "<div>\n",
       "<style scoped>\n",
       "    .dataframe tbody tr th:only-of-type {\n",
       "        vertical-align: middle;\n",
       "    }\n",
       "\n",
       "    .dataframe tbody tr th {\n",
       "        vertical-align: top;\n",
       "    }\n",
       "\n",
       "    .dataframe thead th {\n",
       "        text-align: right;\n",
       "    }\n",
       "</style>\n",
       "<table border=\"1\" class=\"dataframe\">\n",
       "  <thead>\n",
       "    <tr style=\"text-align: right;\">\n",
       "      <th></th>\n",
       "      <th>usuario_id</th>\n",
       "      <th>filmes_id</th>\n",
       "      <th>avaliacao</th>\n",
       "      <th>quando</th>\n",
       "    </tr>\n",
       "  </thead>\n",
       "  <tbody>\n",
       "    <tr>\n",
       "      <th>0</th>\n",
       "      <td>1</td>\n",
       "      <td>1</td>\n",
       "      <td>4.0</td>\n",
       "      <td>964982703</td>\n",
       "    </tr>\n",
       "    <tr>\n",
       "      <th>1</th>\n",
       "      <td>1</td>\n",
       "      <td>3</td>\n",
       "      <td>4.0</td>\n",
       "      <td>964981247</td>\n",
       "    </tr>\n",
       "    <tr>\n",
       "      <th>2</th>\n",
       "      <td>1</td>\n",
       "      <td>6</td>\n",
       "      <td>4.0</td>\n",
       "      <td>964982224</td>\n",
       "    </tr>\n",
       "    <tr>\n",
       "      <th>3</th>\n",
       "      <td>1</td>\n",
       "      <td>47</td>\n",
       "      <td>5.0</td>\n",
       "      <td>964983815</td>\n",
       "    </tr>\n",
       "    <tr>\n",
       "      <th>4</th>\n",
       "      <td>1</td>\n",
       "      <td>50</td>\n",
       "      <td>5.0</td>\n",
       "      <td>964982931</td>\n",
       "    </tr>\n",
       "    <tr>\n",
       "      <th>...</th>\n",
       "      <td>...</td>\n",
       "      <td>...</td>\n",
       "      <td>...</td>\n",
       "      <td>...</td>\n",
       "    </tr>\n",
       "    <tr>\n",
       "      <th>100831</th>\n",
       "      <td>610</td>\n",
       "      <td>166534</td>\n",
       "      <td>4.0</td>\n",
       "      <td>1493848402</td>\n",
       "    </tr>\n",
       "    <tr>\n",
       "      <th>100832</th>\n",
       "      <td>610</td>\n",
       "      <td>168248</td>\n",
       "      <td>5.0</td>\n",
       "      <td>1493850091</td>\n",
       "    </tr>\n",
       "    <tr>\n",
       "      <th>100833</th>\n",
       "      <td>610</td>\n",
       "      <td>168250</td>\n",
       "      <td>5.0</td>\n",
       "      <td>1494273047</td>\n",
       "    </tr>\n",
       "    <tr>\n",
       "      <th>100834</th>\n",
       "      <td>610</td>\n",
       "      <td>168252</td>\n",
       "      <td>5.0</td>\n",
       "      <td>1493846352</td>\n",
       "    </tr>\n",
       "    <tr>\n",
       "      <th>100835</th>\n",
       "      <td>610</td>\n",
       "      <td>170875</td>\n",
       "      <td>3.0</td>\n",
       "      <td>1493846415</td>\n",
       "    </tr>\n",
       "  </tbody>\n",
       "</table>\n",
       "<p>100836 rows × 4 columns</p>\n",
       "</div>"
      ],
      "text/plain": [
       "        usuario_id  filmes_id  avaliacao      quando\n",
       "0                1          1        4.0   964982703\n",
       "1                1          3        4.0   964981247\n",
       "2                1          6        4.0   964982224\n",
       "3                1         47        5.0   964983815\n",
       "4                1         50        5.0   964982931\n",
       "...            ...        ...        ...         ...\n",
       "100831         610     166534        4.0  1493848402\n",
       "100832         610     168248        5.0  1493850091\n",
       "100833         610     168250        5.0  1494273047\n",
       "100834         610     168252        5.0  1493846352\n",
       "100835         610     170875        3.0  1493846415\n",
       "\n",
       "[100836 rows x 4 columns]"
      ]
     },
     "execution_count": 41,
     "metadata": {},
     "output_type": "execute_result"
    }
   ],
   "source": [
    "df_filmes"
   ]
  },
  {
   "cell_type": "code",
   "execution_count": 54,
   "metadata": {},
   "outputs": [
    {
     "name": "stdout",
     "output_type": "stream",
     "text": [
      "a média de avaliações é: 3.50\n"
     ]
    }
   ],
   "source": [
    "# Calculando a média\n",
    "print(f\"a média de avaliações é: {df_filmes.avaliacao.mean():.2f}\")"
   ]
  },
  {
   "cell_type": "code",
   "execution_count": 49,
   "metadata": {},
   "outputs": [
    {
     "name": "stdout",
     "output_type": "stream",
     "text": [
      "a média de avaliações é: 3.5\n"
     ]
    }
   ],
   "source": [
    "# Caculando a mediana\n",
    "print(f\"a mediana de avaliações é: {df_filmes.avaliacao.median()}\")"
   ]
  },
  {
   "cell_type": "code",
   "execution_count": 51,
   "metadata": {},
   "outputs": [
    {
     "name": "stdout",
     "output_type": "stream",
     "text": [
      " a soma de avaliações é: 353083.0\n"
     ]
    }
   ],
   "source": [
    "# Calculando a soma\n",
    "print(f\" a soma de avaliações é: {df_filmes.avaliacao.sum()}\")"
   ]
  },
  {
   "cell_type": "markdown",
   "metadata": {},
   "source": [
    "# Mediana\n",
    "-- Para definir o padrão de qualidade, é o segundo quartil, dos 3 quartis. Os 50% do elemento."
   ]
  },
  {
   "cell_type": "code",
   "execution_count": 55,
   "metadata": {},
   "outputs": [
    {
     "data": {
      "text/plain": [
       "count    100836.000000\n",
       "mean          3.501557\n",
       "std           1.042529\n",
       "min           0.500000\n",
       "25%           3.000000\n",
       "50%           3.500000\n",
       "75%           4.000000\n",
       "max           5.000000\n",
       "Name: avaliacao, dtype: float64"
      ]
     },
     "execution_count": 55,
     "metadata": {},
     "output_type": "execute_result"
    }
   ],
   "source": [
    "df_filmes.avaliacao.describe()"
   ]
  },
  {
   "cell_type": "code",
   "execution_count": 56,
   "metadata": {},
   "outputs": [],
   "source": [
    "import seaborn as sns"
   ]
  },
  {
   "cell_type": "code",
   "execution_count": 57,
   "metadata": {},
   "outputs": [],
   "source": [
    "# Criando variável\n",
    "notas = df_filmes.avaliacao"
   ]
  },
  {
   "cell_type": "code",
   "execution_count": 60,
   "metadata": {},
   "outputs": [
    {
     "data": {
      "text/plain": [
       "0    4.0\n",
       "1    4.0\n",
       "2    4.0\n",
       "3    5.0\n",
       "4    5.0\n",
       "Name: avaliacao, dtype: float64"
      ]
     },
     "execution_count": 60,
     "metadata": {},
     "output_type": "execute_result"
    }
   ],
   "source": [
    "# Mostrando o cabeçalho\n",
    "notas.head()"
   ]
  },
  {
   "cell_type": "code",
   "execution_count": 62,
   "metadata": {},
   "outputs": [
    {
     "data": {
      "text/plain": [
       "<Axes: ylabel='avaliacao'>"
      ]
     },
     "execution_count": 62,
     "metadata": {},
     "output_type": "execute_result"
    },
    {
     "data": {
      "image/png": "[encoded data removed]",
      "text/plain": [
       "<Figure size 640x480 with 1 Axes>"
      ]
     },
     "metadata": {},
     "output_type": "display_data"
    }
   ],
   "source": [
    "sns.boxplot(notas)"
   ]
  },
  {
   "cell_type": "code",
   "execution_count": 63,
   "metadata": {},
   "outputs": [
    {
     "data": {
      "text/plain": [
       "<Axes: xlabel='avaliacao'>"
      ]
     },
     "execution_count": 63,
     "metadata": {},
     "output_type": "execute_result"
    },
    {
     "data": {
      "image/png": "[encoded data removed]",
      "text/plain": [
       "<Figure size 640x480 with 1 Axes>"
      ]
     },
     "metadata": {},
     "output_type": "display_data"
    }
   ],
   "source": [
    "sns.boxplot(x=notas)"
   ]
  },
  {
   "cell_type": "markdown",
   "metadata": {},
   "source": [
    "## Conclusão"
   ]
  },
  {
   "cell_type": "markdown",
   "metadata": {},
   "source": [
    "- Gráfico Boxplot ou Caixa\n",
    "- O objetivo dele é mostrar a mediana e os quartis"
   ]
  },
  {
   "cell_type": "markdown",
   "metadata": {},
   "source": [
    "### Dataset movies.csv"
   ]
  },
  {
   "cell_type": "code",
   "execution_count": 70,
   "metadata": {},
   "outputs": [],
   "source": [
    "df_filmes_todos = pd.read_csv('datasets/movies.csv')"
   ]
  },
  {
   "cell_type": "code",
   "execution_count": 72,
   "metadata": {},
   "outputs": [
    {
     "data": {
      "text/html": [
       "<div>\n",
       "<style scoped>\n",
       "    .dataframe tbody tr th:only-of-type {\n",
       "        vertical-align: middle;\n",
       "    }\n",
       "\n",
       "    .dataframe tbody tr th {\n",
       "        vertical-align: top;\n",
       "    }\n",
       "\n",
       "    .dataframe thead th {\n",
       "        text-align: right;\n",
       "    }\n",
       "</style>\n",
       "<table border=\"1\" class=\"dataframe\">\n",
       "  <thead>\n",
       "    <tr style=\"text-align: right;\">\n",
       "      <th></th>\n",
       "      <th>movieId</th>\n",
       "      <th>title</th>\n",
       "      <th>genres</th>\n",
       "    </tr>\n",
       "  </thead>\n",
       "  <tbody>\n",
       "    <tr>\n",
       "      <th>0</th>\n",
       "      <td>1</td>\n",
       "      <td>Toy Story (1995)</td>\n",
       "      <td>Adventure|Animation|Children|Comedy|Fantasy</td>\n",
       "    </tr>\n",
       "    <tr>\n",
       "      <th>1</th>\n",
       "      <td>2</td>\n",
       "      <td>Jumanji (1995)</td>\n",
       "      <td>Adventure|Children|Fantasy</td>\n",
       "    </tr>\n",
       "    <tr>\n",
       "      <th>2</th>\n",
       "      <td>3</td>\n",
       "      <td>Grumpier Old Men (1995)</td>\n",
       "      <td>Comedy|Romance</td>\n",
       "    </tr>\n",
       "    <tr>\n",
       "      <th>3</th>\n",
       "      <td>4</td>\n",
       "      <td>Waiting to Exhale (1995)</td>\n",
       "      <td>Comedy|Drama|Romance</td>\n",
       "    </tr>\n",
       "    <tr>\n",
       "      <th>4</th>\n",
       "      <td>5</td>\n",
       "      <td>Father of the Bride Part II (1995)</td>\n",
       "      <td>Comedy</td>\n",
       "    </tr>\n",
       "  </tbody>\n",
       "</table>\n",
       "</div>"
      ],
      "text/plain": [
       "   movieId                               title  \\\n",
       "0        1                    Toy Story (1995)   \n",
       "1        2                      Jumanji (1995)   \n",
       "2        3             Grumpier Old Men (1995)   \n",
       "3        4            Waiting to Exhale (1995)   \n",
       "4        5  Father of the Bride Part II (1995)   \n",
       "\n",
       "                                        genres  \n",
       "0  Adventure|Animation|Children|Comedy|Fantasy  \n",
       "1                   Adventure|Children|Fantasy  \n",
       "2                               Comedy|Romance  \n",
       "3                         Comedy|Drama|Romance  \n",
       "4                                       Comedy  "
      ]
     },
     "execution_count": 72,
     "metadata": {},
     "output_type": "execute_result"
    }
   ],
   "source": [
    "df_filmes_todos.head()"
   ]
  },
  {
   "cell_type": "code",
   "execution_count": 82,
   "metadata": {},
   "outputs": [],
   "source": [
    "df_filmes_todos.columns = ['filme_id','título','genero']"
   ]
  },
  {
   "cell_type": "code",
   "execution_count": 84,
   "metadata": {},
   "outputs": [
    {
     "data": {
      "text/html": [
       "<div>\n",
       "<style scoped>\n",
       "    .dataframe tbody tr th:only-of-type {\n",
       "        vertical-align: middle;\n",
       "    }\n",
       "\n",
       "    .dataframe tbody tr th {\n",
       "        vertical-align: top;\n",
       "    }\n",
       "\n",
       "    .dataframe thead th {\n",
       "        text-align: right;\n",
       "    }\n",
       "</style>\n",
       "<table border=\"1\" class=\"dataframe\">\n",
       "  <thead>\n",
       "    <tr style=\"text-align: right;\">\n",
       "      <th></th>\n",
       "      <th>filme_id</th>\n",
       "      <th>título</th>\n",
       "      <th>genero</th>\n",
       "    </tr>\n",
       "  </thead>\n",
       "  <tbody>\n",
       "    <tr>\n",
       "      <th>0</th>\n",
       "      <td>1</td>\n",
       "      <td>Toy Story (1995)</td>\n",
       "      <td>Adventure|Animation|Children|Comedy|Fantasy</td>\n",
       "    </tr>\n",
       "    <tr>\n",
       "      <th>1</th>\n",
       "      <td>2</td>\n",
       "      <td>Jumanji (1995)</td>\n",
       "      <td>Adventure|Children|Fantasy</td>\n",
       "    </tr>\n",
       "    <tr>\n",
       "      <th>2</th>\n",
       "      <td>3</td>\n",
       "      <td>Grumpier Old Men (1995)</td>\n",
       "      <td>Comedy|Romance</td>\n",
       "    </tr>\n",
       "    <tr>\n",
       "      <th>3</th>\n",
       "      <td>4</td>\n",
       "      <td>Waiting to Exhale (1995)</td>\n",
       "      <td>Comedy|Drama|Romance</td>\n",
       "    </tr>\n",
       "    <tr>\n",
       "      <th>4</th>\n",
       "      <td>5</td>\n",
       "      <td>Father of the Bride Part II (1995)</td>\n",
       "      <td>Comedy</td>\n",
       "    </tr>\n",
       "  </tbody>\n",
       "</table>\n",
       "</div>"
      ],
      "text/plain": [
       "   filme_id                              título  \\\n",
       "0         1                    Toy Story (1995)   \n",
       "1         2                      Jumanji (1995)   \n",
       "2         3             Grumpier Old Men (1995)   \n",
       "3         4            Waiting to Exhale (1995)   \n",
       "4         5  Father of the Bride Part II (1995)   \n",
       "\n",
       "                                        genero  \n",
       "0  Adventure|Animation|Children|Comedy|Fantasy  \n",
       "1                   Adventure|Children|Fantasy  \n",
       "2                               Comedy|Romance  \n",
       "3                         Comedy|Drama|Romance  \n",
       "4                                       Comedy  "
      ]
     },
     "execution_count": 84,
     "metadata": {},
     "output_type": "execute_result"
    }
   ],
   "source": [
    "df_filmes_todos.head()"
   ]
  },
  {
   "cell_type": "code",
   "execution_count": 83,
   "metadata": {},
   "outputs": [
    {
     "data": {
      "text/html": [
       "<div>\n",
       "<style scoped>\n",
       "    .dataframe tbody tr th:only-of-type {\n",
       "        vertical-align: middle;\n",
       "    }\n",
       "\n",
       "    .dataframe tbody tr th {\n",
       "        vertical-align: top;\n",
       "    }\n",
       "\n",
       "    .dataframe thead th {\n",
       "        text-align: right;\n",
       "    }\n",
       "</style>\n",
       "<table border=\"1\" class=\"dataframe\">\n",
       "  <thead>\n",
       "    <tr style=\"text-align: right;\">\n",
       "      <th></th>\n",
       "      <th>filme_id</th>\n",
       "      <th>título</th>\n",
       "      <th>genero</th>\n",
       "    </tr>\n",
       "  </thead>\n",
       "  <tbody>\n",
       "    <tr>\n",
       "      <th>0</th>\n",
       "      <td>1</td>\n",
       "      <td>Toy Story (1995)</td>\n",
       "      <td>Adventure|Animation|Children|Comedy|Fantasy</td>\n",
       "    </tr>\n",
       "  </tbody>\n",
       "</table>\n",
       "</div>"
      ],
      "text/plain": [
       "   filme_id            título                                       genero\n",
       "0         1  Toy Story (1995)  Adventure|Animation|Children|Comedy|Fantasy"
      ]
     },
     "execution_count": 83,
     "metadata": {},
     "output_type": "execute_result"
    }
   ],
   "source": [
    "df_filmes_todos.query(\"filme_id == 1\")"
   ]
  },
  {
   "cell_type": "code",
   "execution_count": 85,
   "metadata": {},
   "outputs": [
    {
     "data": {
      "text/plain": [
       "0        4.0\n",
       "516      4.0\n",
       "874      4.5\n",
       "1434     2.5\n",
       "1667     4.5\n",
       "        ... \n",
       "97364    2.5\n",
       "98479    4.0\n",
       "98666    2.5\n",
       "99497    3.0\n",
       "99534    5.0\n",
       "Name: avaliacao, Length: 215, dtype: float64"
      ]
     },
     "execution_count": 85,
     "metadata": {},
     "output_type": "execute_result"
    }
   ],
   "source": [
    "df_filmes.query(\"filmes_id == 1\").avaliacao"
   ]
  },
  {
   "cell_type": "markdown",
   "metadata": {},
   "source": [
    "# Média por Filme (groupby())"
   ]
  },
  {
   "cell_type": "markdown",
   "metadata": {},
   "source": [
    "## Como agrupar por filmes e calcular as médias de uma só vez"
   ]
  },
  {
   "cell_type": "code",
   "execution_count": 99,
   "metadata": {},
   "outputs": [],
   "source": [
    "medias_por_filme = df_filmes.groupby('filmes_id').mean()['avaliacao']"
   ]
  },
  {
   "cell_type": "code",
   "execution_count": 102,
   "metadata": {},
   "outputs": [
    {
     "data": {
      "text/plain": [
       "filmes_id\n",
       "1    3.920930\n",
       "2    3.431818\n",
       "3    3.259615\n",
       "4    2.357143\n",
       "5    3.071429\n",
       "Name: avaliacao, dtype: float64"
      ]
     },
     "execution_count": 102,
     "metadata": {},
     "output_type": "execute_result"
    }
   ],
   "source": [
    "medias_por_filme.head()"
   ]
  },
  {
   "cell_type": "code",
   "execution_count": 112,
   "metadata": {},
   "outputs": [
    {
     "data": {
      "text/plain": [
       "<Axes: ylabel='Frequency'>"
      ]
     },
     "execution_count": 112,
     "metadata": {},
     "output_type": "execute_result"
    },
    {
     "data": {
      "image/png": "[encoded data removed]",
      "text/plain": [
       "<Figure size 640x480 with 1 Axes>"
      ]
     },
     "metadata": {},
     "output_type": "display_data"
    }
   ],
   "source": [
    "medias_por_filme.plot(kind='hist', color='green')"
   ]
  },
  {
   "cell_type": "markdown",
   "metadata": {},
   "source": [
    "### Boxplot"
   ]
  },
  {
   "cell_type": "code",
   "execution_count": 113,
   "metadata": {},
   "outputs": [
    {
     "data": {
      "text/plain": [
       "<Axes: xlabel='avaliacao'>"
      ]
     },
     "execution_count": 113,
     "metadata": {},
     "output_type": "execute_result"
    },
    {
     "data": {
      "image/png": "[encoded data removed]",
      "text/plain": [
       "<Figure size 640x480 with 1 Axes>"
      ]
     },
     "metadata": {},
     "output_type": "display_data"
    }
   ],
   "source": [
    "sns.boxplot(x=medias_por_filme)"
   ]
  },
  {
   "cell_type": "code",
   "execution_count": 115,
   "metadata": {},
   "outputs": [
    {
     "data": {
      "text/plain": [
       "count    9724.000000\n",
       "mean        3.262448\n",
       "std         0.869874\n",
       "min         0.500000\n",
       "25%         2.800000\n",
       "50%         3.416667\n",
       "75%         3.911765\n",
       "max         5.000000\n",
       "Name: avaliacao, dtype: float64"
      ]
     },
     "execution_count": 115,
     "metadata": {},
     "output_type": "execute_result"
    }
   ],
   "source": [
    "medias_por_filme.describe()"
   ]
  },
  {
   "cell_type": "code",
   "execution_count": 116,
   "metadata": {},
   "outputs": [
    {
     "data": {
      "text/plain": [
       "<Axes: xlabel='avaliacao'>"
      ]
     },
     "execution_count": 116,
     "metadata": {},
     "output_type": "execute_result"
    },
    {
     "data": {
      "image/png": "[encoded data removed]",
      "text/plain": [
       "<Figure size 640x480 with 1 Axes>"
      ]
     },
     "metadata": {},
     "output_type": "display_data"
    }
   ],
   "source": [
    "sns.boxenplot(x=medias_por_filme)"
   ]
  },
  {
   "cell_type": "code",
   "execution_count": 120,
   "metadata": {},
   "outputs": [
    {
     "data": {
      "text/plain": [
       "<Axes: xlabel='avaliacao', ylabel='Count'>"
      ]
     },
     "execution_count": 120,
     "metadata": {},
     "output_type": "execute_result"
    },
    {
     "data": {
      "image/png": "[encoded data removed]",
      "text/plain": [
       "<Figure size 640x480 with 1 Axes>"
      ]
     },
     "metadata": {},
     "output_type": "display_data"
    }
   ],
   "source": [
    "sns.histplot(medias_por_filme,kde=True,bins=10)"
   ]
  },
  {
   "cell_type": "markdown",
   "metadata": {},
   "source": [
    "### Matplotlib"
   ]
  },
  {
   "cell_type": "code",
   "execution_count": 123,
   "metadata": {},
   "outputs": [
    {
     "data": {
      "text/plain": [
       "Text(0.5, 1.0, 'Contando uma história dos filmes')"
      ]
     },
     "execution_count": 123,
     "metadata": {},
     "output_type": "execute_result"
    },
    {
     "data": {
      "image/png": "[encoded data removed]",
      "text/plain": [
       "<Figure size 640x480 with 1 Axes>"
      ]
     },
     "metadata": {},
     "output_type": "display_data"
    }
   ],
   "source": [
    "import matplotlib.pyplot as plt\n",
    "plt.hist(medias_por_filme)\n",
    "plt.title(\"Contando uma história dos filmes\")"
   ]
  },
  {
   "cell_type": "markdown",
   "metadata": {},
   "source": [
    "# Exercício - Exporte a planilha no formato .csv"
   ]
  },
  {
   "cell_type": "code",
   "execution_count": 86,
   "metadata": {},
   "outputs": [],
   "source": [
    "pesquisa = pd.read_csv('datasets/pesquisa.csv')"
   ]
  },
  {
   "cell_type": "code",
   "execution_count": 89,
   "metadata": {},
   "outputs": [
    {
     "data": {
      "text/html": [
       "<div>\n",
       "<style scoped>\n",
       "    .dataframe tbody tr th:only-of-type {\n",
       "        vertical-align: middle;\n",
       "    }\n",
       "\n",
       "    .dataframe tbody tr th {\n",
       "        vertical-align: top;\n",
       "    }\n",
       "\n",
       "    .dataframe thead th {\n",
       "        text-align: right;\n",
       "    }\n",
       "</style>\n",
       "<table border=\"1\" class=\"dataframe\">\n",
       "  <thead>\n",
       "    <tr style=\"text-align: right;\">\n",
       "      <th></th>\n",
       "      <th>Carimbo de data/hora</th>\n",
       "      <th>Endereço de e-mail</th>\n",
       "      <th>Pontuação</th>\n",
       "      <th>Responda qual a sua compreensão</th>\n",
       "      <th>Quais tópicos de estatística você acha mais desafiadores</th>\n",
       "      <th>Como você se sente em relação ao estudo de estatística</th>\n",
       "    </tr>\n",
       "  </thead>\n",
       "  <tbody>\n",
       "    <tr>\n",
       "      <th>count</th>\n",
       "      <td>17</td>\n",
       "      <td>17</td>\n",
       "      <td>17</td>\n",
       "      <td>17</td>\n",
       "      <td>17</td>\n",
       "      <td>17</td>\n",
       "    </tr>\n",
       "    <tr>\n",
       "      <th>unique</th>\n",
       "      <td>16</td>\n",
       "      <td>17</td>\n",
       "      <td>1</td>\n",
       "      <td>3</td>\n",
       "      <td>4</td>\n",
       "      <td>3</td>\n",
       "    </tr>\n",
       "    <tr>\n",
       "      <th>top</th>\n",
       "      <td>20/08/2024 17:02:00</td>\n",
       "      <td>neutrin.fullstack@gmail.com</td>\n",
       "      <td>0 / 1</td>\n",
       "      <td>boa</td>\n",
       "      <td>quartis</td>\n",
       "      <td>tenho interesse</td>\n",
       "    </tr>\n",
       "    <tr>\n",
       "      <th>freq</th>\n",
       "      <td>2</td>\n",
       "      <td>1</td>\n",
       "      <td>17</td>\n",
       "      <td>9</td>\n",
       "      <td>9</td>\n",
       "      <td>8</td>\n",
       "    </tr>\n",
       "  </tbody>\n",
       "</table>\n",
       "</div>"
      ],
      "text/plain": [
       "       Carimbo de data/hora           Endereço de e-mail Pontuação  \\\n",
       "count                    17                           17        17   \n",
       "unique                   16                           17         1   \n",
       "top     20/08/2024 17:02:00  neutrin.fullstack@gmail.com     0 / 1   \n",
       "freq                      2                            1        17   \n",
       "\n",
       "       Responda qual a sua compreensão  \\\n",
       "count                               17   \n",
       "unique                               3   \n",
       "top                                boa   \n",
       "freq                                 9   \n",
       "\n",
       "       Quais tópicos de estatística você acha mais desafiadores  \\\n",
       "count                                                  17         \n",
       "unique                                                  4         \n",
       "top                                               quartis         \n",
       "freq                                                    9         \n",
       "\n",
       "       Como você se sente em relação ao estudo de estatística  \n",
       "count                                                  17      \n",
       "unique                                                  3      \n",
       "top                                       tenho interesse      \n",
       "freq                                                    8      "
      ]
     },
     "execution_count": 89,
     "metadata": {},
     "output_type": "execute_result"
    }
   ],
   "source": [
    "pesquisa.describe()"
   ]
  },
  {
   "cell_type": "code",
   "execution_count": 90,
   "metadata": {},
   "outputs": [
    {
     "data": {
      "text/plain": [
       "Index(['Carimbo de data/hora', 'Endereço de e-mail', 'Pontuação',\n",
       "       'Responda qual a sua compreensão',\n",
       "       'Quais tópicos de estatística você acha mais desafiadores',\n",
       "       'Como você se sente em relação ao estudo de estatística'],\n",
       "      dtype='object')"
      ]
     },
     "execution_count": 90,
     "metadata": {},
     "output_type": "execute_result"
    }
   ],
   "source": [
    "pesquisa.columns"
   ]
  },
  {
   "cell_type": "markdown",
   "metadata": {},
   "source": [
    "## Renomeie todas as colunas\n",
    "['data_hora','email','compreensao','desafiador','sentimento']\n"
   ]
  },
  {
   "cell_type": "code",
   "execution_count": 87,
   "metadata": {},
   "outputs": [
    {
     "data": {
      "text/html": [
       "<div>\n",
       "<style scoped>\n",
       "    .dataframe tbody tr th:only-of-type {\n",
       "        vertical-align: middle;\n",
       "    }\n",
       "\n",
       "    .dataframe tbody tr th {\n",
       "        vertical-align: top;\n",
       "    }\n",
       "\n",
       "    .dataframe thead th {\n",
       "        text-align: right;\n",
       "    }\n",
       "</style>\n",
       "<table border=\"1\" class=\"dataframe\">\n",
       "  <thead>\n",
       "    <tr style=\"text-align: right;\">\n",
       "      <th></th>\n",
       "      <th>Carimbo de data/hora</th>\n",
       "      <th>Endereço de e-mail</th>\n",
       "      <th>Pontuação</th>\n",
       "      <th>Responda qual a sua compreensão</th>\n",
       "      <th>Quais tópicos de estatística você acha mais desafiadores</th>\n",
       "      <th>Como você se sente em relação ao estudo de estatística</th>\n",
       "    </tr>\n",
       "  </thead>\n",
       "  <tbody>\n",
       "    <tr>\n",
       "      <th>0</th>\n",
       "      <td>20/08/2024 16:24:25</td>\n",
       "      <td>neutrin.fullstack@gmail.com</td>\n",
       "      <td>0 / 1</td>\n",
       "      <td>regular</td>\n",
       "      <td>população</td>\n",
       "      <td>entusiasmado</td>\n",
       "    </tr>\n",
       "    <tr>\n",
       "      <th>1</th>\n",
       "      <td>20/08/2024 17:00:24</td>\n",
       "      <td>henriqueserafin7@gmail.com</td>\n",
       "      <td>0 / 1</td>\n",
       "      <td>boa</td>\n",
       "      <td>quartis</td>\n",
       "      <td>entusiasmado</td>\n",
       "    </tr>\n",
       "    <tr>\n",
       "      <th>2</th>\n",
       "      <td>20/08/2024 17:00:26</td>\n",
       "      <td>jpguiotti@gmail.com</td>\n",
       "      <td>0 / 1</td>\n",
       "      <td>boa</td>\n",
       "      <td>população</td>\n",
       "      <td>tenho interesse</td>\n",
       "    </tr>\n",
       "    <tr>\n",
       "      <th>3</th>\n",
       "      <td>20/08/2024 17:01:02</td>\n",
       "      <td>thi.henriquemaia@gmail.com</td>\n",
       "      <td>0 / 1</td>\n",
       "      <td>regular</td>\n",
       "      <td>quartis</td>\n",
       "      <td>tenho interesse</td>\n",
       "    </tr>\n",
       "    <tr>\n",
       "      <th>4</th>\n",
       "      <td>20/08/2024 17:01:18</td>\n",
       "      <td>eulete.souza@df.estudante.senai.br</td>\n",
       "      <td>0 / 1</td>\n",
       "      <td>regular</td>\n",
       "      <td>quartis</td>\n",
       "      <td>entusiasmado</td>\n",
       "    </tr>\n",
       "    <tr>\n",
       "      <th>5</th>\n",
       "      <td>20/08/2024 17:01:57</td>\n",
       "      <td>fabriciotaveira176@gmail.com</td>\n",
       "      <td>0 / 1</td>\n",
       "      <td>ótima</td>\n",
       "      <td>quartis</td>\n",
       "      <td>tenho interesse</td>\n",
       "    </tr>\n",
       "    <tr>\n",
       "      <th>6</th>\n",
       "      <td>20/08/2024 17:02:00</td>\n",
       "      <td>dcguidosenai@gmail.com</td>\n",
       "      <td>0 / 1</td>\n",
       "      <td>boa</td>\n",
       "      <td>quartis</td>\n",
       "      <td>tenho interesse</td>\n",
       "    </tr>\n",
       "    <tr>\n",
       "      <th>7</th>\n",
       "      <td>20/08/2024 17:02:00</td>\n",
       "      <td>valleriam@gmail.com</td>\n",
       "      <td>0 / 1</td>\n",
       "      <td>regular</td>\n",
       "      <td>média</td>\n",
       "      <td>tenho interesse</td>\n",
       "    </tr>\n",
       "    <tr>\n",
       "      <th>8</th>\n",
       "      <td>20/08/2024 17:02:32</td>\n",
       "      <td>andrerodriguesfeitosa9@gmail.com</td>\n",
       "      <td>0 / 1</td>\n",
       "      <td>boa</td>\n",
       "      <td>amostra</td>\n",
       "      <td>tenho interesse</td>\n",
       "    </tr>\n",
       "    <tr>\n",
       "      <th>9</th>\n",
       "      <td>20/08/2024 17:02:51</td>\n",
       "      <td>engribeiro2017@gmail.com</td>\n",
       "      <td>0 / 1</td>\n",
       "      <td>ótima</td>\n",
       "      <td>população</td>\n",
       "      <td>entusiasmado</td>\n",
       "    </tr>\n",
       "    <tr>\n",
       "      <th>10</th>\n",
       "      <td>20/08/2024 17:02:53</td>\n",
       "      <td>jessicaportessantos@gmail.com</td>\n",
       "      <td>0 / 1</td>\n",
       "      <td>regular</td>\n",
       "      <td>quartis</td>\n",
       "      <td>tenho interesse</td>\n",
       "    </tr>\n",
       "    <tr>\n",
       "      <th>11</th>\n",
       "      <td>20/08/2024 17:02:56</td>\n",
       "      <td>julianarochaximenes@gmail.com</td>\n",
       "      <td>0 / 1</td>\n",
       "      <td>boa</td>\n",
       "      <td>quartis</td>\n",
       "      <td>ok</td>\n",
       "    </tr>\n",
       "    <tr>\n",
       "      <th>12</th>\n",
       "      <td>20/08/2024 17:03:32</td>\n",
       "      <td>escola.saga.caio@gmail.com</td>\n",
       "      <td>0 / 1</td>\n",
       "      <td>boa</td>\n",
       "      <td>quartis</td>\n",
       "      <td>ok</td>\n",
       "    </tr>\n",
       "    <tr>\n",
       "      <th>13</th>\n",
       "      <td>20/08/2024 17:04:13</td>\n",
       "      <td>lafaietepedro3@gmail.com</td>\n",
       "      <td>0 / 1</td>\n",
       "      <td>boa</td>\n",
       "      <td>quartis</td>\n",
       "      <td>ok</td>\n",
       "    </tr>\n",
       "    <tr>\n",
       "      <th>14</th>\n",
       "      <td>20/08/2024 17:05:14</td>\n",
       "      <td>palmeiravictor53@gmail.com</td>\n",
       "      <td>0 / 1</td>\n",
       "      <td>boa</td>\n",
       "      <td>média</td>\n",
       "      <td>entusiasmado</td>\n",
       "    </tr>\n",
       "    <tr>\n",
       "      <th>15</th>\n",
       "      <td>20/08/2024 17:10:31</td>\n",
       "      <td>pjeronimo842@gmail.com</td>\n",
       "      <td>0 / 1</td>\n",
       "      <td>regular</td>\n",
       "      <td>média</td>\n",
       "      <td>tenho interesse</td>\n",
       "    </tr>\n",
       "    <tr>\n",
       "      <th>16</th>\n",
       "      <td>20/08/2024 17:11:37</td>\n",
       "      <td>leandrosousajesus@gmail.com</td>\n",
       "      <td>0 / 1</td>\n",
       "      <td>boa</td>\n",
       "      <td>população</td>\n",
       "      <td>entusiasmado</td>\n",
       "    </tr>\n",
       "  </tbody>\n",
       "</table>\n",
       "</div>"
      ],
      "text/plain": [
       "   Carimbo de data/hora                  Endereço de e-mail Pontuação  \\\n",
       "0   20/08/2024 16:24:25         neutrin.fullstack@gmail.com     0 / 1   \n",
       "1   20/08/2024 17:00:24          henriqueserafin7@gmail.com     0 / 1   \n",
       "2   20/08/2024 17:00:26                 jpguiotti@gmail.com     0 / 1   \n",
       "3   20/08/2024 17:01:02          thi.henriquemaia@gmail.com     0 / 1   \n",
       "4   20/08/2024 17:01:18  eulete.souza@df.estudante.senai.br     0 / 1   \n",
       "5   20/08/2024 17:01:57        fabriciotaveira176@gmail.com     0 / 1   \n",
       "6   20/08/2024 17:02:00              dcguidosenai@gmail.com     0 / 1   \n",
       "7   20/08/2024 17:02:00                 valleriam@gmail.com     0 / 1   \n",
       "8   20/08/2024 17:02:32    andrerodriguesfeitosa9@gmail.com     0 / 1   \n",
       "9   20/08/2024 17:02:51            engribeiro2017@gmail.com     0 / 1   \n",
       "10  20/08/2024 17:02:53       jessicaportessantos@gmail.com     0 / 1   \n",
       "11  20/08/2024 17:02:56       julianarochaximenes@gmail.com     0 / 1   \n",
       "12  20/08/2024 17:03:32          escola.saga.caio@gmail.com     0 / 1   \n",
       "13  20/08/2024 17:04:13            lafaietepedro3@gmail.com     0 / 1   \n",
       "14  20/08/2024 17:05:14          palmeiravictor53@gmail.com     0 / 1   \n",
       "15  20/08/2024 17:10:31              pjeronimo842@gmail.com     0 / 1   \n",
       "16  20/08/2024 17:11:37         leandrosousajesus@gmail.com     0 / 1   \n",
       "\n",
       "   Responda qual a sua compreensão  \\\n",
       "0                          regular   \n",
       "1                              boa   \n",
       "2                              boa   \n",
       "3                          regular   \n",
       "4                          regular   \n",
       "5                            ótima   \n",
       "6                              boa   \n",
       "7                          regular   \n",
       "8                              boa   \n",
       "9                            ótima   \n",
       "10                         regular   \n",
       "11                             boa   \n",
       "12                             boa   \n",
       "13                             boa   \n",
       "14                             boa   \n",
       "15                         regular   \n",
       "16                             boa   \n",
       "\n",
       "   Quais tópicos de estatística você acha mais desafiadores  \\\n",
       "0                                           população         \n",
       "1                                             quartis         \n",
       "2                                           população         \n",
       "3                                             quartis         \n",
       "4                                             quartis         \n",
       "5                                             quartis         \n",
       "6                                             quartis         \n",
       "7                                               média         \n",
       "8                                             amostra         \n",
       "9                                           população         \n",
       "10                                            quartis         \n",
       "11                                            quartis         \n",
       "12                                            quartis         \n",
       "13                                            quartis         \n",
       "14                                              média         \n",
       "15                                              média         \n",
       "16                                          população         \n",
       "\n",
       "   Como você se sente em relação ao estudo de estatística  \n",
       "0                                        entusiasmado      \n",
       "1                                        entusiasmado      \n",
       "2                                     tenho interesse      \n",
       "3                                     tenho interesse      \n",
       "4                                        entusiasmado      \n",
       "5                                     tenho interesse      \n",
       "6                                     tenho interesse      \n",
       "7                                     tenho interesse      \n",
       "8                                     tenho interesse      \n",
       "9                                        entusiasmado      \n",
       "10                                    tenho interesse      \n",
       "11                                                 ok      \n",
       "12                                                 ok      \n",
       "13                                                 ok      \n",
       "14                                       entusiasmado      \n",
       "15                                    tenho interesse      \n",
       "16                                       entusiasmado      "
      ]
     },
     "execution_count": 87,
     "metadata": {},
     "output_type": "execute_result"
    }
   ],
   "source": [
    "pesquisa.head(25)"
   ]
  },
  {
   "cell_type": "code",
   "execution_count": 96,
   "metadata": {},
   "outputs": [],
   "source": [
    "pesquisa.columns = ['Data_hora','Email','Pontuação','Compreensão','Desafiador','Sentimento']"
   ]
  },
  {
   "cell_type": "code",
   "execution_count": 97,
   "metadata": {},
   "outputs": [
    {
     "data": {
      "text/html": [
       "<div>\n",
       "<style scoped>\n",
       "    .dataframe tbody tr th:only-of-type {\n",
       "        vertical-align: middle;\n",
       "    }\n",
       "\n",
       "    .dataframe tbody tr th {\n",
       "        vertical-align: top;\n",
       "    }\n",
       "\n",
       "    .dataframe thead th {\n",
       "        text-align: right;\n",
       "    }\n",
       "</style>\n",
       "<table border=\"1\" class=\"dataframe\">\n",
       "  <thead>\n",
       "    <tr style=\"text-align: right;\">\n",
       "      <th></th>\n",
       "      <th>Data_hora</th>\n",
       "      <th>Email</th>\n",
       "      <th>Pontuação</th>\n",
       "      <th>Compreensão</th>\n",
       "      <th>Desafiador</th>\n",
       "      <th>Sentimento</th>\n",
       "    </tr>\n",
       "  </thead>\n",
       "  <tbody>\n",
       "    <tr>\n",
       "      <th>0</th>\n",
       "      <td>20/08/2024 16:24:25</td>\n",
       "      <td>neutrin.fullstack@gmail.com</td>\n",
       "      <td>0 / 1</td>\n",
       "      <td>regular</td>\n",
       "      <td>população</td>\n",
       "      <td>entusiasmado</td>\n",
       "    </tr>\n",
       "    <tr>\n",
       "      <th>1</th>\n",
       "      <td>20/08/2024 17:00:24</td>\n",
       "      <td>henriqueserafin7@gmail.com</td>\n",
       "      <td>0 / 1</td>\n",
       "      <td>boa</td>\n",
       "      <td>quartis</td>\n",
       "      <td>entusiasmado</td>\n",
       "    </tr>\n",
       "    <tr>\n",
       "      <th>2</th>\n",
       "      <td>20/08/2024 17:00:26</td>\n",
       "      <td>jpguiotti@gmail.com</td>\n",
       "      <td>0 / 1</td>\n",
       "      <td>boa</td>\n",
       "      <td>população</td>\n",
       "      <td>tenho interesse</td>\n",
       "    </tr>\n",
       "    <tr>\n",
       "      <th>3</th>\n",
       "      <td>20/08/2024 17:01:02</td>\n",
       "      <td>thi.henriquemaia@gmail.com</td>\n",
       "      <td>0 / 1</td>\n",
       "      <td>regular</td>\n",
       "      <td>quartis</td>\n",
       "      <td>tenho interesse</td>\n",
       "    </tr>\n",
       "    <tr>\n",
       "      <th>4</th>\n",
       "      <td>20/08/2024 17:01:18</td>\n",
       "      <td>eulete.souza@df.estudante.senai.br</td>\n",
       "      <td>0 / 1</td>\n",
       "      <td>regular</td>\n",
       "      <td>quartis</td>\n",
       "      <td>entusiasmado</td>\n",
       "    </tr>\n",
       "    <tr>\n",
       "      <th>5</th>\n",
       "      <td>20/08/2024 17:01:57</td>\n",
       "      <td>fabriciotaveira176@gmail.com</td>\n",
       "      <td>0 / 1</td>\n",
       "      <td>ótima</td>\n",
       "      <td>quartis</td>\n",
       "      <td>tenho interesse</td>\n",
       "    </tr>\n",
       "    <tr>\n",
       "      <th>6</th>\n",
       "      <td>20/08/2024 17:02:00</td>\n",
       "      <td>dcguidosenai@gmail.com</td>\n",
       "      <td>0 / 1</td>\n",
       "      <td>boa</td>\n",
       "      <td>quartis</td>\n",
       "      <td>tenho interesse</td>\n",
       "    </tr>\n",
       "    <tr>\n",
       "      <th>7</th>\n",
       "      <td>20/08/2024 17:02:00</td>\n",
       "      <td>valleriam@gmail.com</td>\n",
       "      <td>0 / 1</td>\n",
       "      <td>regular</td>\n",
       "      <td>média</td>\n",
       "      <td>tenho interesse</td>\n",
       "    </tr>\n",
       "    <tr>\n",
       "      <th>8</th>\n",
       "      <td>20/08/2024 17:02:32</td>\n",
       "      <td>andrerodriguesfeitosa9@gmail.com</td>\n",
       "      <td>0 / 1</td>\n",
       "      <td>boa</td>\n",
       "      <td>amostra</td>\n",
       "      <td>tenho interesse</td>\n",
       "    </tr>\n",
       "    <tr>\n",
       "      <th>9</th>\n",
       "      <td>20/08/2024 17:02:51</td>\n",
       "      <td>engribeiro2017@gmail.com</td>\n",
       "      <td>0 / 1</td>\n",
       "      <td>ótima</td>\n",
       "      <td>população</td>\n",
       "      <td>entusiasmado</td>\n",
       "    </tr>\n",
       "    <tr>\n",
       "      <th>10</th>\n",
       "      <td>20/08/2024 17:02:53</td>\n",
       "      <td>jessicaportessantos@gmail.com</td>\n",
       "      <td>0 / 1</td>\n",
       "      <td>regular</td>\n",
       "      <td>quartis</td>\n",
       "      <td>tenho interesse</td>\n",
       "    </tr>\n",
       "    <tr>\n",
       "      <th>11</th>\n",
       "      <td>20/08/2024 17:02:56</td>\n",
       "      <td>julianarochaximenes@gmail.com</td>\n",
       "      <td>0 / 1</td>\n",
       "      <td>boa</td>\n",
       "      <td>quartis</td>\n",
       "      <td>ok</td>\n",
       "    </tr>\n",
       "    <tr>\n",
       "      <th>12</th>\n",
       "      <td>20/08/2024 17:03:32</td>\n",
       "      <td>escola.saga.caio@gmail.com</td>\n",
       "      <td>0 / 1</td>\n",
       "      <td>boa</td>\n",
       "      <td>quartis</td>\n",
       "      <td>ok</td>\n",
       "    </tr>\n",
       "    <tr>\n",
       "      <th>13</th>\n",
       "      <td>20/08/2024 17:04:13</td>\n",
       "      <td>lafaietepedro3@gmail.com</td>\n",
       "      <td>0 / 1</td>\n",
       "      <td>boa</td>\n",
       "      <td>quartis</td>\n",
       "      <td>ok</td>\n",
       "    </tr>\n",
       "    <tr>\n",
       "      <th>14</th>\n",
       "      <td>20/08/2024 17:05:14</td>\n",
       "      <td>palmeiravictor53@gmail.com</td>\n",
       "      <td>0 / 1</td>\n",
       "      <td>boa</td>\n",
       "      <td>média</td>\n",
       "      <td>entusiasmado</td>\n",
       "    </tr>\n",
       "    <tr>\n",
       "      <th>15</th>\n",
       "      <td>20/08/2024 17:10:31</td>\n",
       "      <td>pjeronimo842@gmail.com</td>\n",
       "      <td>0 / 1</td>\n",
       "      <td>regular</td>\n",
       "      <td>média</td>\n",
       "      <td>tenho interesse</td>\n",
       "    </tr>\n",
       "    <tr>\n",
       "      <th>16</th>\n",
       "      <td>20/08/2024 17:11:37</td>\n",
       "      <td>leandrosousajesus@gmail.com</td>\n",
       "      <td>0 / 1</td>\n",
       "      <td>boa</td>\n",
       "      <td>população</td>\n",
       "      <td>entusiasmado</td>\n",
       "    </tr>\n",
       "  </tbody>\n",
       "</table>\n",
       "</div>"
      ],
      "text/plain": [
       "              Data_hora                               Email Pontuação  \\\n",
       "0   20/08/2024 16:24:25         neutrin.fullstack@gmail.com     0 / 1   \n",
       "1   20/08/2024 17:00:24          henriqueserafin7@gmail.com     0 / 1   \n",
       "2   20/08/2024 17:00:26                 jpguiotti@gmail.com     0 / 1   \n",
       "3   20/08/2024 17:01:02          thi.henriquemaia@gmail.com     0 / 1   \n",
       "4   20/08/2024 17:01:18  eulete.souza@df.estudante.senai.br     0 / 1   \n",
       "5   20/08/2024 17:01:57        fabriciotaveira176@gmail.com     0 / 1   \n",
       "6   20/08/2024 17:02:00              dcguidosenai@gmail.com     0 / 1   \n",
       "7   20/08/2024 17:02:00                 valleriam@gmail.com     0 / 1   \n",
       "8   20/08/2024 17:02:32    andrerodriguesfeitosa9@gmail.com     0 / 1   \n",
       "9   20/08/2024 17:02:51            engribeiro2017@gmail.com     0 / 1   \n",
       "10  20/08/2024 17:02:53       jessicaportessantos@gmail.com     0 / 1   \n",
       "11  20/08/2024 17:02:56       julianarochaximenes@gmail.com     0 / 1   \n",
       "12  20/08/2024 17:03:32          escola.saga.caio@gmail.com     0 / 1   \n",
       "13  20/08/2024 17:04:13            lafaietepedro3@gmail.com     0 / 1   \n",
       "14  20/08/2024 17:05:14          palmeiravictor53@gmail.com     0 / 1   \n",
       "15  20/08/2024 17:10:31              pjeronimo842@gmail.com     0 / 1   \n",
       "16  20/08/2024 17:11:37         leandrosousajesus@gmail.com     0 / 1   \n",
       "\n",
       "   Compreensão Desafiador       Sentimento  \n",
       "0      regular  população     entusiasmado  \n",
       "1          boa    quartis     entusiasmado  \n",
       "2          boa  população  tenho interesse  \n",
       "3      regular    quartis  tenho interesse  \n",
       "4      regular    quartis     entusiasmado  \n",
       "5        ótima    quartis  tenho interesse  \n",
       "6          boa    quartis  tenho interesse  \n",
       "7      regular      média  tenho interesse  \n",
       "8          boa    amostra  tenho interesse  \n",
       "9        ótima  população     entusiasmado  \n",
       "10     regular    quartis  tenho interesse  \n",
       "11         boa    quartis               ok  \n",
       "12         boa    quartis               ok  \n",
       "13         boa    quartis               ok  \n",
       "14         boa      média     entusiasmado  \n",
       "15     regular      média  tenho interesse  \n",
       "16         boa  população     entusiasmado  "
      ]
     },
     "execution_count": 97,
     "metadata": {},
     "output_type": "execute_result"
    }
   ],
   "source": [
    "pesquisa"
   ]
  },
  {
   "cell_type": "code",
   "execution_count": 125,
   "metadata": {},
   "outputs": [
    {
     "data": {
      "text/plain": [
       "<Axes: xlabel='Sentimento', ylabel='Porcentagem'>"
      ]
     },
     "execution_count": 125,
     "metadata": {},
     "output_type": "execute_result"
    },
    {
     "data": {
      "image/png": "[encoded data removed]",
      "text/plain": [
       "<Figure size 640x480 with 1 Axes>"
      ]
     },
     "metadata": {},
     "output_type": "display_data"
    }
   ],
   "source": [
    "# Criar o DataFrame com a contagem de cada sentimento\n",
    "df = pesquisa['Sentimento'].value_counts(normalize=True).reset_index()\n",
    "df.columns = ['Sentimento', 'Porcentagem']\n",
    "\n",
    "# Criar o gráfico de barras\n",
    "ax = sns.barplot(x='Sentimento', y='Porcentagem', data=df)\n",
    "\n",
    "# Adicionar as porcentagens nas barras\n",
    "ax.bar_label(ax.containers[0], fmt='%.2f%%')\n",
    "\n",
    "# Mostrar o gráfico\n",
    "sns.boxplot()"
   ]
  }
 ],
 "metadata": {
  "kernelspec": {
   "display_name": ".venv",
   "language": "python",
   "name": "python3"
  },
  "language_info": {
   "codemirror_mode": {
    "name": "ipython",
    "version": 3
   },
   "file_extension": ".py",
   "mimetype": "text/x-python",
   "name": "python",
   "nbconvert_exporter": "python",
   "pygments_lexer": "ipython3",
   "version": "3.12.4"
  }
 },
 "nbformat": 4,
 "nbformat_minor": 2
}
